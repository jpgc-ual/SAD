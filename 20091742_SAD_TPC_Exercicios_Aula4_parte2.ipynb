{
  "nbformat": 4,
  "nbformat_minor": 0,
  "metadata": {
    "colab": {
      "name": "20091742-SAD-TPC_Exercicios_Aula4_parte2.ipynb",
      "version": "0.3.2",
      "provenance": [],
      "collapsed_sections": []
    },
    "kernelspec": {
      "name": "python3",
      "display_name": "Python 3"
    }
  },
  "cells": [
    {
      "metadata": {
        "id": "JcHDvVYnIuZA",
        "colab_type": "text"
      },
      "cell_type": "markdown",
      "source": [
        "## Elaborado pelo Aluno: João Carvalho - Nº 20091742\n",
        "----\n",
        "# Exercicios\n",
        "\n",
        "\n",
        "#### Dado o presente dataset determiar \n",
        "\n",
        "- Qual o preço maximo, minimo e médio\n",
        "- qual a média da população do dataset\n",
        "- qual a média do número de quartos para ocupações médias de 1,2,3,4 e 5 pessoas\n",
        "- que preços médios existem para casas de 20-25, 25-30, 30-35 e 35-40 anos de idade (intervalos de valores)\n",
        "\n"
      ]
    },
    {
      "metadata": {
        "id": "30JWYPUoI50d",
        "colab_type": "code",
        "outputId": "297f21c4-308c-4c74-880c-f6e1515fde3c",
        "colab": {
          "base_uri": "https://localhost:8080/",
          "height": 54
        }
      },
      "cell_type": "code",
      "source": [
        "# Start by importing some modules\n",
        "import sklearn.datasets as datasets\n",
        "import pandas as pd\n",
        "import numpy as np\n",
        "import matplotlib.pyplot as plt\n",
        "\n",
        "#import data to variable\n",
        "data = datasets.california_housing.fetch_california_housing()\n",
        "\n",
        "# Vamos criar um dataframe com base nestes dados\n",
        "dframe = pd.DataFrame(data = data.data, columns=data.feature_names)\n",
        "\n",
        "\n",
        "new_data = np.concatenate((data.data, data.target.reshape(-1,1)*100000), axis=1)\n",
        "names = data.feature_names + ['Preços']\n",
        "dframe = pd.DataFrame(data=new_data, columns=names)\n",
        "\n",
        "#dframe.head()\n",
        "\n",
        "###PROF\n",
        "#dframe.aggregate([\"max\", \"min\", \"mean\"]).loc[:,\"AveRooms\"]\n",
        "#dframe.aggregate(\"mean\")[\"Population\"]\n",
        "#a = dframe.loc[:, 'AveOccup'].round()\n",
        "#dframe.groupby(a).agg('mean').loc[:5,'AveRooms']\n",
        "\n",
        "#filter = dframe['AveOccup']>=6\n",
        "#dframe.loc[filter, :]\n",
        "\n",
        "#(dframe['Population']/10).round()*10\n",
        "#dframe.loc[(dframe['Population'] > 1000) & (dframe['AveOccup']<2),]\n",
        "\n",
        "###PROF\n",
        "\n",
        "allRound = (dframe['HouseAge']/5).round()*5\n",
        "df0 = dframe.groupby(allRound).agg('mean')\n",
        "#df0.loc[20:25,[\"HouseAge\",\"Preços\"]].agg('mean')\n",
        "r1 = df0.loc[20:25,['Preços']].agg('mean')\n",
        "r2 = df0.loc[25:30,['Preços']].agg('mean')\n",
        "r3 = df0.loc[30:35,['Preços']].agg('mean')\n",
        "r4 = df0.loc[35:40,['Preços']].agg('mean')\n",
        "\n",
        "new_data2 = np.concatenate((np.array(r1).reshape(1,-1), np.array(r2).reshape(1,-1), np.array(r3).reshape(1,-1), np.array(r4).reshape(1,-1)), axis=1)\n",
        "col_names2 = ['Preços [20-25]', 'Preços [25-30]', 'Preços [30-35]', 'Preços [35-40]']\n",
        "dframe2 = pd.DataFrame(data=new_data2, columns=col_names2)\n",
        "print(dframe2)\n",
        "\n"
      ],
      "execution_count": 5,
      "outputs": [
        {
          "output_type": "stream",
          "text": [
            "   Preços [20-25]  Preços [25-30]  Preços [30-35]  Preços [35-40]\n",
            "0   203967.242475   206674.982946   205696.152776      204716.683\n"
          ],
          "name": "stdout"
        }
      ]
    }
  ]
}