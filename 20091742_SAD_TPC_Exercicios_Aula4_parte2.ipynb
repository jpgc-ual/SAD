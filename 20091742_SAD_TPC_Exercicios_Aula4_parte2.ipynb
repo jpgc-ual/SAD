{
  "nbformat": 4,
  "nbformat_minor": 0,
  "metadata": {
    "colab": {
      "name": "20091742-SAD-TPC_Exercicios_Aula4_parte2.ipynb",
      "version": "0.3.2",
      "provenance": [],
      "collapsed_sections": []
    },
    "kernelspec": {
      "name": "python3",
      "display_name": "Python 3"
    }
  },
  "cells": [
    {
      "metadata": {
        "id": "JcHDvVYnIuZA",
        "colab_type": "text"
      },
      "cell_type": "markdown",
      "source": [
        "## Elaborado pelo Aluno: João Carvalho - Nº 20091742\n",
        "----\n",
        "# Exercicios\n",
        "\n",
        "\n",
        "#### Dado o presente dataset determiar \n",
        "\n",
        "- Qual o preço maximo, minimo e médio\n",
        "- qual a média da população do dataset\n",
        "- qual a média do número de quartos para ocupações médias de 1,2,3,4 e 5 pessoas\n",
        "- que preços médios existem para casas de 20-25, 25-30, 30-35 e 35-40 anos de idade (intervalos de valores)\n",
        "\n"
      ]
    },
    {
      "metadata": {
        "id": "30JWYPUoI50d",
        "colab_type": "code",
        "outputId": "f068575e-2e10-4725-b51b-11805c6b7cf1",
        "colab": {
          "base_uri": "https://localhost:8080/",
          "height": 1156
        }
      },
      "cell_type": "code",
      "source": [
        "# Start by importing some modules\n",
        "import sklearn.datasets as datasets\n",
        "import pandas as pd\n",
        "import numpy as np\n",
        "import matplotlib.pyplot as plt\n",
        "\n",
        "#import data to variable\n",
        "data = datasets.california_housing.fetch_california_housing()\n",
        "\n",
        "# Vamos criar um dataframe com base nestes dados\n",
        "dframe = pd.DataFrame(data = data.data, columns=data.feature_names)\n",
        "\n",
        "\n",
        "new_data = np.concatenate((data.data, data.target.reshape(-1,1)*100000), axis=1)\n",
        "names = data.feature_names + [\"Preços\"]\n",
        "dframe = pd.DataFrame(data=new_data, columns=names)\n",
        "\n",
        "#dframe.head()\n",
        "\n",
        "####PROF\n",
        "#dframe.aggregate([\"max\", \"min\", \"mean\"]).loc[:,\"AveRooms\"]\n",
        "#dframe.aggregate(\"mean\")[\"Population\"]\n",
        "#a = dframe.loc[:, 'AveOccup'].round()\n",
        "#dframe.groupby(a).agg('mean').loc[:5,'AveRooms']\n",
        "\n",
        "#filter = dframe['AveOccup']>=6\n",
        "#dframe.loc[filter, :]\n",
        "\n",
        "#(dframe['Population']/10).round()*10\n",
        "#dframe.loc[(dframe['Population'] > 1000) & (dframe['AveOccup']<2),]\n",
        "\n",
        "####PROF\n",
        "\n",
        "allRound = (dframe['HouseAge']/5).round()*5\n",
        "df0 = dframe.groupby(allRound).agg('mean')\n",
        "#df0.loc[20:25,[\"HouseAge\",\"Preços\"]].agg('mean')\n",
        "r1 = df0.loc[20:25,[\"Preços\"]].agg('mean')\n",
        "r2 = df0.loc[25:30,[\"Preços\"]].agg('mean')\n",
        "r3 = df0.loc[30:35,[\"Preços\"]].agg('mean')\n",
        "r4 = df0.loc[35:40,[\"Preços\"]].agg('mean')\n",
        "\n",
        "new_data2 = np.concatenate((np.array(r1).reshape(1,-1), np.array(r2).reshape(1,-1), np.array(r3).reshape(1,-1), np.array(r4).reshape(1,-1)), axis=1)\n",
        "col_names2 = [\"Preços [20-25]\", \"Preços [25-30]\", \"Preços [30-35]\", \"Preços [35-40]\"]\n",
        "dframe2 = pd.DataFrame(data=new_data2, columns=col_names2)\n",
        "dframe2\n",
        "\n"
      ],
      "execution_count": 1,
      "outputs": [
        {
          "output_type": "execute_result",
          "data": {
            "text/plain": [
              "0        41.0\n",
              "1        21.0\n",
              "2        52.0\n",
              "3        52.0\n",
              "4        52.0\n",
              "5        52.0\n",
              "6        52.0\n",
              "7        52.0\n",
              "8        42.0\n",
              "9        52.0\n",
              "10       52.0\n",
              "11       52.0\n",
              "12       52.0\n",
              "13       52.0\n",
              "14       52.0\n",
              "15       50.0\n",
              "16       52.0\n",
              "17       52.0\n",
              "18       50.0\n",
              "19       52.0\n",
              "20       40.0\n",
              "21       42.0\n",
              "22       52.0\n",
              "23       52.0\n",
              "24       52.0\n",
              "25       41.0\n",
              "26       49.0\n",
              "27       52.0\n",
              "28       50.0\n",
              "29       52.0\n",
              "         ... \n",
              "20610    28.0\n",
              "20611    27.0\n",
              "20612    26.0\n",
              "20613    31.0\n",
              "20614    26.0\n",
              "20615    23.0\n",
              "20616    15.0\n",
              "20617    20.0\n",
              "20618    25.0\n",
              "20619    22.0\n",
              "20620    40.0\n",
              "20621    37.0\n",
              "20622    20.0\n",
              "20623    32.0\n",
              "20624    16.0\n",
              "20625    37.0\n",
              "20626    36.0\n",
              "20627     5.0\n",
              "20628    19.0\n",
              "20629    28.0\n",
              "20630    11.0\n",
              "20631    15.0\n",
              "20632    15.0\n",
              "20633    27.0\n",
              "20634    28.0\n",
              "20635    25.0\n",
              "20636    18.0\n",
              "20637    17.0\n",
              "20638    18.0\n",
              "20639    16.0\n",
              "Name: HouseAge, Length: 20640, dtype: float64"
            ]
          },
          "metadata": {
            "tags": []
          },
          "execution_count": 1
        }
      ]
    }
  ]
}