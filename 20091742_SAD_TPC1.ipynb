{
  "nbformat": 4,
  "nbformat_minor": 0,
  "metadata": {
    "colab": {
      "name": "20091742-SAD-TPC1.ipynb",
      "version": "0.3.2",
      "provenance": [],
      "collapsed_sections": []
    },
    "kernelspec": {
      "name": "python3",
      "display_name": "Python 3"
    }
  },
  "cells": [
    {
      "metadata": {
        "id": "YVdUX2VjcsuS",
        "colab_type": "text"
      },
      "cell_type": "markdown",
      "source": [
        "## Elaborado pelo Aluno: João Carvalho - Nº 20091742\n",
        "----\n",
        "# TPC 0 (entrega na próxima aula - 20 min MAX)\n",
        "\n",
        "### Dominar a linguagem Python\n",
        "#### ENTREGA 22/10/2018\n",
        "\n",
        "----\n",
        "\n",
        "Uma string S composta de N caracteres é considerada como correta se qualquer uma das seguintes condições for verdadeira:\n",
        "\n",
        "- S for vazia;\n",
        "- S tem a forma \"(U)\" ou \"[U]\" ou \"{U}\" onde U é também uma string correta;\n",
        "- S tem a forma \"VW\" onde V e W são strings corretas.\n",
        "\n",
        "\n",
        "Por exemplo, a string \"{[() ()]}\" é considerada correta, mas \"([) ()]\" não é.\n",
        "\n",
        "Escreva uma função:\n",
        "\n",
        "```def solution(S)```\n",
        "\n",
        "que, dada uma sequência S com N caracteres, retorna 1 se S estiver correta e 0 caso contrário.\n",
        "\n",
        "Por exemplo, dado S = \"{[() ()]}\", a função deve retornar 1 e dado S = \"([) ()]\", a função deve retornar 0, como explicado acima.\n",
        "\n",
        "Assuma que:\n",
        "\n",
        "- N é um número inteiro dentro do intervalo [0..200,000];\n",
        "- A string S consiste apenas nos seguintes caracteres: \"(\", \"{\", \"[\", \"]\", \"}\" e / ou \")\".\n",
        "\n"
      ]
    },
    {
      "metadata": {
        "id": "Vdl1L1xmczji",
        "colab_type": "code",
        "colab": {
          "base_uri": "https://localhost:8080/",
          "height": 90
        },
        "outputId": "12e931a5-ba09-4067-9607-b59899d189d8"
      },
      "cell_type": "code",
      "source": [
        "def isValidCharSequence(S):\n",
        "  tmpArray = [\"(\", \")\", \"{\", \"}\", \"[\", \"]\"]\n",
        "  arrayLen = len(tmpArray)\n",
        "  strLen = len(S)\n",
        "  count = 0\n",
        "  for i in range(0, strLen):\n",
        "    for j in range (0, arrayLen):\n",
        "      if S[i:i+1] == tmpArray[j:j+1][0]:\n",
        "        count += 1\n",
        "        #print(\"ola \" + str(i) + \": \" + S[i:i+1])\n",
        "  if count == strLen:\n",
        "    return True\n",
        "  else:\n",
        "    return False\n",
        "\n",
        "def isValidSolution(S):\n",
        "  tmpArray = [\"()\", \"{}\", \"[]\"]\n",
        "  arrayLen = len(tmpArray)\n",
        "  strLen = len(S)\n",
        "  finish = False\n",
        "  foundIndex = len(S)\n",
        "  while (not finish):  \n",
        "    count = 0\n",
        "    for i in range(0, arrayLen):\n",
        "      extractIndex = S.find(tmpArray[i:i+1][0])\n",
        "      #print(\"ExtractIndex: \" + str(extractIndex)) #debug line\n",
        "      #print(\"FoundIndex: \" + str(foundIndex)) #debug line\n",
        "      if (extractIndex <= foundIndex) and (extractIndex > -1):\n",
        "        foundIndex = extractIndex\n",
        "        #print(\"AQUI: \" + str(foundIndex)) #debug line\n",
        "      else:\n",
        "        count += 1\n",
        "    if count != arrayLen:\n",
        "      straux1 = S[0:foundIndex]\n",
        "      straux2 = S[foundIndex+2:]\n",
        "      S = straux1 + straux2\n",
        "      foundIndex = len(S)\n",
        "      #print(S) #debug line\n",
        "    else:\n",
        "      finish = True\n",
        "  if(len(S) == 0):\n",
        "    return 1\n",
        "  else:\n",
        "    return 0\n",
        "\n",
        "def solution(S):\n",
        "  strLen = len(S)\n",
        "  #print(strLen) #debug line\n",
        "  if strLen >= 0 and strLen <= 200000:\n",
        "    if(not isValidCharSequence(S)):\n",
        "      return 0\n",
        "    return isValidSolution(S)\n",
        "  else:\n",
        "    return 0\n",
        " \n",
        "\n",
        "print(solution(\"({()}[{}])\"))\n",
        "print(solution(\"{[()()]}\"))\n",
        "print(solution(\"([)()]\"))\n",
        "print(solution(\"([ab]{[]})\"))"
      ],
      "execution_count": 1,
      "outputs": [
        {
          "output_type": "stream",
          "text": [
            "1\n",
            "1\n",
            "0\n",
            "0\n"
          ],
          "name": "stdout"
        }
      ]
    }
  ]
}